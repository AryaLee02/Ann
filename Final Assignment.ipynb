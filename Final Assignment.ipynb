# Display the output
print("Python project for data analyst")
